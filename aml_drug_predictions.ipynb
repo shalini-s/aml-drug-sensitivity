{
  "nbformat": 4,
  "nbformat_minor": 0,
  "metadata": {
    "colab": {
      "name": "aml_tf_nn.ipynb",
      "version": "0.3.2",
      "provenance": [],
      "collapsed_sections": [
        "_ZwldBm0hhJy"
      ],
      "toc_visible": true
    },
    "kernelspec": {
      "display_name": "Python 2",
      "language": "python",
      "name": "python2"
    },
    "accelerator": "GPU"
  },
  "cells": [
    {
      "metadata": {
        "scrolled": true,
        "id": "FBhN5n1OTe00",
        "colab_type": "code",
        "outputId": "4896b947-b56d-4142-fe4e-ae0062446ec3",
        "colab": {
          "base_uri": "https://localhost:8080/",
          "height": 34
        }
      },
      "cell_type": "code",
      "source": [
        "import gc\n",
        "import matplotlib\n",
        "import numpy as np\n",
        "import pandas as pd\n",
        "import pickle\n",
        "import sklearn\n",
        "from sklearn.metrics import mean_squared_error, r2_score\n",
        "import tensorflow as tf\n",
        "from sklearn.decomposition import PCA\n",
        "from sklearn.preprocessing import StandardScaler\n",
        "from sklearn.model_selection import RandomizedSearchCV\n",
        "from sklearn.model_selection import ParameterGrid\n",
        "from numpy.random import shuffle\n",
        "import os\n",
        "import uuid\n",
        "from google.colab import drive\n",
        "import matplotlib.pyplot as plt\n",
        "import keras"
      ],
      "execution_count": 0,
      "outputs": [
        {
          "output_type": "stream",
          "text": [
            "Using TensorFlow backend.\n"
          ],
          "name": "stderr"
        }
      ]
    },
    {
      "metadata": {
        "id": "T7tErvKnTe05",
        "colab_type": "code",
        "outputId": "9d57534d-3273-4104-90f6-d3a1a58030db",
        "colab": {
          "base_uri": "https://localhost:8080/",
          "height": 238
        }
      },
      "cell_type": "code",
      "source": [
        "#print out memory usage\n",
        "import sys\n",
        "\n",
        "# These are the usual ipython objects, including this one you are creating\n",
        "ipython_vars = ['In', 'Out', 'exit', 'quit', 'get_ipython', 'ipython_vars']\n",
        "\n",
        "# Get a sorted list of the objects and their sizes\n",
        "sorted([(x, sys.getsizeof(globals().get(x))) for x in dir() if not x.startswith('_') and x not in sys.modules and x not in ipython_vars], key=lambda x: x[1], reverse=True)"
      ],
      "execution_count": 0,
      "outputs": [
        {
          "output_type": "execute_result",
          "data": {
            "text/plain": [
              "[('PCA', 904),\n",
              " ('ParameterGrid', 904),\n",
              " ('RandomizedSearchCV', 904),\n",
              " ('StandardScaler', 904),\n",
              " ('find_op_params', 120),\n",
              " ('mean_squared_error', 120),\n",
              " ('r2_score', 120),\n",
              " ('shuffle', 72),\n",
              " ('drive', 56),\n",
              " ('np', 56),\n",
              " ('pd', 56),\n",
              " ('plt', 56),\n",
              " ('tf', 56)]"
            ]
          },
          "metadata": {
            "tags": []
          },
          "execution_count": 6
        }
      ]
    },
    {
      "metadata": {
        "id": "_ZwldBm0hhJy",
        "colab_type": "text"
      },
      "cell_type": "markdown",
      "source": [
        "##Get Data Together"
      ]
    },
    {
      "metadata": {
        "colab_type": "code",
        "id": "6f_UcQyDfpwv",
        "colab": {}
      },
      "cell_type": "code",
      "source": [
        "all_data = pd.read_csv('expression_sensitivity.csv')"
      ],
      "execution_count": 0,
      "outputs": []
    },
    {
      "metadata": {
        "id": "GJqCtby_IoKV",
        "colab_type": "code",
        "colab": {}
      },
      "cell_type": "code",
      "source": [
        "all_data.set_index(all_data.iloc[:,0],inplace=True) \n",
        "all_data = all_data.iloc[:,1:]"
      ],
      "execution_count": 0,
      "outputs": []
    },
    {
      "metadata": {
        "id": "27ErushUMg4K",
        "colab_type": "code",
        "colab": {}
      },
      "cell_type": "code",
      "source": [
        "n_feats = 22843\n",
        "exp = all_data.iloc[:,0:n_feats]\n",
        "drugs_to_pred = ['Trametinib (GSK1120212)','Selumetinib (AZD6244)','Tivozanib (AV-951)','KI20227','Dasatinib']\n",
        "y = all_data[drugs_to_pred]\n",
        "all_ = pd.concat([exp,y],axis=1)"
      ],
      "execution_count": 0,
      "outputs": []
    },
    {
      "metadata": {
        "id": "pVYquWViM3Yn",
        "colab_type": "code",
        "colab": {}
      },
      "cell_type": "code",
      "source": [
        "all_.dropna(inplace=True)\n",
        "data = all_.values\n",
        "\n",
        "# all_data.fillna(all_data.mean(),inplace=True)\n",
        "# data=all_data.values"
      ],
      "execution_count": 0,
      "outputs": []
    },
    {
      "metadata": {
        "id": "9GaXEB-lIrP7",
        "colab_type": "code",
        "colab": {}
      },
      "cell_type": "code",
      "source": [
        "X = data[:,0:n_feats]\n",
        "X = StandardScaler().fit_transform(X)\n",
        "y = data[:,n_feats:]"
      ],
      "execution_count": 0,
      "outputs": []
    },
    {
      "metadata": {
        "id": "aFILGg3wTe0_",
        "colab_type": "code",
        "outputId": "af05ab0b-ae49-4dd9-cef9-999946066fa5",
        "colab": {
          "base_uri": "https://localhost:8080/",
          "height": 54
        }
      },
      "cell_type": "code",
      "source": [
        "del all_data\n",
        "gc.collect()"
      ],
      "execution_count": 0,
      "outputs": [
        {
          "output_type": "execute_result",
          "data": {
            "text/plain": [
              "39"
            ]
          },
          "metadata": {
            "tags": []
          },
          "execution_count": 9
        }
      ]
    },
    {
      "metadata": {
        "id": "zZRdjsLJhnQv",
        "colab_type": "text"
      },
      "cell_type": "markdown",
      "source": [
        "## Model"
      ]
    },
    {
      "metadata": {
        "id": "Or7-apegaMnN",
        "colab_type": "code",
        "colab": {}
      },
      "cell_type": "code",
      "source": [
        "def model_predict_gen(x_train, n_lay, n_nodes, activation_func, n_output, reg_rate, dr_rate):\n",
        "    layers = []\n",
        "    for i in range(0, n_lay-1):\n",
        "      new_layer = tf.layers.Dense(units=n_nodes, activation=activation_func,kernel_regularizer=keras.regularizers.l2(reg_rate))\n",
        "      layers.append(new_layer)\n",
        "    layers.append(tf.layers.Dense(units=n_output)) #should last activation func b dif?\n",
        "    \n",
        "    r = layers[0](x_train)\n",
        "    d = tf.layers.dropout(r, rate = dr_rate)\n",
        "\n",
        "    for i in range(1, n_lay):\n",
        "        r = layers[i](d)\n",
        "        d = tf.layers.dropout(r, rate = dr_rate)\n",
        "    predictions_train = d\n",
        "    return layers, predictions_train"
      ],
      "execution_count": 0,
      "outputs": []
    },
    {
      "metadata": {
        "id": "32zO5WjdTe1M",
        "colab_type": "code",
        "colab": {}
      },
      "cell_type": "code",
      "source": [
        "def test_train_split(X,y,n_test):\n",
        "    order = np.random.permutation(X.shape[0])\n",
        "    feats_test = X[order[0:n_test],:] #90x22843\n",
        "    outs_test = y[order[0:n_test]]\n",
        "#     outs_test = data[order[0:n_test],n_feats:] #90x122\n",
        "    feats_train = X[order[n_test:],:] #361z22843\n",
        "    outs_train = y[order[n_test:]]\n",
        "#     outs_train = data[order[n_test:],n_feats:] #361x122\n",
        "\n",
        "    return feats_train, outs_train, feats_test, outs_test #np.asmatrix(outs_test).T if only one pred"
      ],
      "execution_count": 0,
      "outputs": []
    },
    {
      "metadata": {
        "id": "lCwhYqv7Z-mz",
        "colab_type": "code",
        "colab": {}
      },
      "cell_type": "code",
      "source": [
        "def nn(X, y, n_val, n_ep, n_layers, n_nodes, activation_func, dr_rate, l_rate, reg_rate, n_output):\n",
        "    \n",
        "    validation = np.zeros(n_val)\n",
        "    losses_train = []\n",
        "    losses_test = []\n",
        "\n",
        "    tf.reset_default_graph()\n",
        "    n = X.shape[0]\n",
        "    n_test = np.round(0.2 * n).astype('int64')\n",
        "    n_epochs = n_ep\n",
        "    \n",
        "    for p in range(len(validation)):\n",
        "        \n",
        "        feats_train, outs_train, feats_test, outs_test = test_train_split(X,y,n_test)\n",
        "\n",
        "        #prepare training Dataset\n",
        "        training = tf.data.Dataset.from_tensor_slices((feats_train, outs_train))\n",
        "        training = training.repeat(n_epochs).batch(n-n_test)\n",
        "        iterator_train = training.make_one_shot_iterator()\n",
        "        \n",
        "        #prepare testing Dataset\n",
        "        testing = tf.data.Dataset.from_tensor_slices((feats_test, outs_test))\n",
        "        testing = testing.repeat(n_epochs).batch(n_test)\n",
        "        iterator_test = testing.make_one_shot_iterator()\n",
        "        \n",
        "        #pull samples\n",
        "        x_train, y_train = iterator_train.get_next()\n",
        "\n",
        "        #predict\n",
        "        keep_prob = tf.placeholder(tf.float32, shape=None, name='keep_prob')\n",
        "        layers,y_train_pred = model_predict_gen(x_train, n_layers, n_nodes, activation_func, n_output, reg_rate, keep_prob)\n",
        "        del x_train\n",
        "        \n",
        "        # optimizer\n",
        "        tf_learning_rate = tf.placeholder(tf.float32, shape=None, name='learning_rate')\n",
        "        loss_train = tf.losses.mean_squared_error(labels=y_train, predictions=y_train_pred) # pass the second value from iter.get_net() as label\n",
        "#         loss_train = tf.nn.softmax_cross_entropy_with_logits_v2(labels=y_train, logits=y_train_pred)\n",
        "        l2_loss = tf.losses.get_regularization_loss()\n",
        "        loss_train += tf.cast(l2_loss,tf.float32)\n",
        "        train_op = tf.train.AdamOptimizer(tf_learning_rate).minimize(loss_train)\n",
        "        \n",
        "        #testing\n",
        "        x_test, y_test = iterator_test.get_next()\n",
        "        \n",
        "        r = layers[0](x_test)\n",
        "        for i in range(1,n_layers):\n",
        "            r = layers[i](r)\n",
        "        y_test_pred = r\n",
        "        \n",
        "        loss_test = tf.losses.mean_squared_error(labels=y_test, predictions=y_test_pred)\n",
        "        del layers, x_test\n",
        "        \n",
        "        with tf.Session() as sess:\n",
        "            sess.run(tf.global_variables_initializer())\n",
        "            for i in range(n_epochs):\n",
        "              _, _loss_train, _loss_test, _y_train_pred, _y_train, _y_test_pred, _y_test= \\\n",
        "                    sess.run((train_op, loss_train, loss_test,y_train_pred,y_train,y_test_pred,y_test), feed_dict={tf_learning_rate: l_rate, keep_prob: dr_rate})\n",
        "\n",
        "              r2 = r2_score(y_true=_y_train, y_pred=_y_train_pred)\n",
        "              r2_test = r2_score(y_true=_y_test, y_pred=_y_test_pred)\n",
        "              losses_train.append(_loss_train)\n",
        "              losses_test.append(_loss_test)\n",
        "\n",
        "            validation[p] = _loss_test\n",
        "        print('r2: {0}, r2_test: {1}, validation: {2}'.format(r2,r2_test, np.mean(validation)))\n",
        "        res = [r2, r2_test, losses_train, _y_train_pred, _y_train, losses_test, _y_test_pred, _y_test, validation]\n",
        "    return res\n"
      ],
      "execution_count": 0,
      "outputs": []
    },
    {
      "metadata": {
        "id": "qtmH3JJMhsEL",
        "colab_type": "text"
      },
      "cell_type": "markdown",
      "source": [
        "# Training and Optimization"
      ]
    },
    {
      "metadata": {
        "id": "3kqaJNxKqdxB",
        "colab_type": "code",
        "colab": {}
      },
      "cell_type": "code",
      "source": [
        "#example run with rand params\n",
        "n_nodes = 100\n",
        "n_layers = 10\n",
        "l_rate = 0.5\n",
        "n_output = 5\n",
        "reg_rate = 0.001\n",
        "activation_func = tf.tanh\n",
        "dr_rate = 0.1 #prob that given node will be dropped out\n",
        "# n_output=data.shape[1]-n_feats #122\n",
        "\n",
        "n_feats = 22843\n",
        "\n",
        "res = nn(X, y, n_val = 15, n_ep = 100, n_layers, n_nodes, activation_func, dr_rate, l_rate, reg_rate, n_output)\n",
        "r2, r2test, losses_train, _predictions_train, _sensitivity_train, losses_test, _predictions_test, _sensitivity_test, validation = res"
      ],
      "execution_count": 0,
      "outputs": []
    },
    {
      "metadata": {
        "id": "m3K1W9I7l_dS",
        "colab_type": "text"
      },
      "cell_type": "markdown",
      "source": [
        "### Hyperparameter tuning through randomized search"
      ]
    },
    {
      "metadata": {
        "id": "VlzIqxjTTe1d",
        "colab_type": "code",
        "colab": {}
      },
      "cell_type": "code",
      "source": [
        "param_dist = {\n",
        "    \"n_layers\" : [3,5,6,7],\n",
        "    \"n_nodes\" : [50,100],\n",
        "    \"activation_func\" : [tf.tanh,tf.nn.relu,tf.sigmoid],\n",
        "    \"dr_rate\" : [0.4,0.5,0.6],\n",
        "    \"l_rate\" : [1e-5,1e-3,0.5],\n",
        "    \"reg_rate\" : [0.001,1e-4,0.01]\n",
        "    \"n_output\" : [1]\n",
        "}"
      ],
      "execution_count": 0,
      "outputs": []
    },
    {
      "metadata": {
        "id": "2jDdepj0n4oj",
        "colab_type": "code",
        "colab": {}
      },
      "cell_type": "code",
      "source": [
        "def find_op_params(param_dist, perc):\n",
        "  param_grid = list(ParameterGrid(param_dist))\n",
        "  shuffle(param_grid)\n",
        "  \n",
        "  results = []\n",
        "  for i in range(0,int(len(param_grid)*perc)):\n",
        "      results.append(nn(X,y,**param_grid[i]))\n",
        "      print('Params: {0}\\nAmount complete: {1:.3f}\\n'.format(param_grid[i],i/(len(param_grid)*0.4)))\n",
        "\n",
        "  r2s_train = [r2 for r2,_, _, _, _, _, _, _, _ in results]\n",
        "  r2s_test = [r2t for _,r2t, _, _, _, _, _, _, _ in results]\n",
        "\n",
        "  best_train_params = param_grid[r2s_train.index(max(r2s_train))]\n",
        "  best_test_params = param_grid[r2s_test.index(max(r2s_test))]\n",
        "  print('Best Train R2: {0} \\nBest Test R2: {1}'.format(max(r2s_train),max(r2s_test)))\n",
        "  print('Best Train Params: {0} \\nBest Test Params: {1}'.format(best_train_params,best_test_params))\n",
        "  \n",
        "  op_res1 = nn(X,y,**best_train_params)\n",
        "  op_res2 = nn(X,y,**best_test_params)\n",
        "    \n",
        "  return op_res1, op_res2, best_train_params, best_test_params, r2s_train, r2s_test"
      ],
      "execution_count": 0,
      "outputs": []
    },
    {
      "metadata": {
        "colab_type": "code",
        "id": "f7gbgNU0obZr",
        "colab": {}
      },
      "cell_type": "code",
      "source": [
        "with open('model_results_optimized6.pkl', 'wb') as f:\n",
        "    pickle.dump([param_grid,results5],f,protocol=2)"
      ],
      "execution_count": 0,
      "outputs": []
    },
    {
      "metadata": {
        "id": "xxnnZ_zXoccS",
        "colab_type": "code",
        "outputId": "e543a340-5bf4-4dc2-9cc9-92b6fd453571",
        "colab": {
          "base_uri": "https://localhost:8080/",
          "height": 106
        }
      },
      "cell_type": "code",
      "source": [
        "r2, r2test, losses_train, _y_train_pred, _y_train, losses_test, _y_test_pred, _y_test, validation = find_op_params(param_grid)[0]"
      ],
      "execution_count": 0,
      "outputs": [
        {
          "output_type": "stream",
          "text": [
            "Best Train R2: 0.998054374605 \n",
            "Best Test R2: 0.0667301768907\n",
            "Best Train Params: {'dr_rate': 0.6, 'n_nodes': 100, 'l_rate': 0.001, 'activation_func': <function relu at 0x7f0ffe8ef7d0>, 'n_layers': 7, 'n_output': 1} \n",
            "Best Test Params: {'dr_rate': 0.6, 'n_nodes': 100, 'l_rate': 0.9, 'activation_func': <function sigmoid at 0x7f0ffe899398>, 'n_layers': 3, 'n_output': 1}\n"
          ],
          "name": "stdout"
        }
      ]
    },
    {
      "metadata": {
        "id": "zWWZDJ1D_uFU",
        "colab_type": "text"
      },
      "cell_type": "markdown",
      "source": [
        "## Predicting Specific Drugs"
      ]
    },
    {
      "metadata": {
        "id": "0HroSsMo_xkz",
        "colab_type": "code",
        "colab": {}
      },
      "cell_type": "code",
      "source": [
        "param_dist = {\n",
        "    \"n_layers\" : [3,5,6,7],\n",
        "    \"n_nodes\" : [50,100],\n",
        "    \"activation_func\" : [tf.tanh,tf.nn.relu,tf.sigmoid],\n",
        "    \"dr_rate\" : [0.4,0.5,0.6],\n",
        "    \"l_rate\" : [1e-5,1e-3,0.3],\n",
        "    \"reg_rate\" : [0.001,1e-4,0.01],\n",
        "    \"n_output\" : [5]\n",
        "}"
      ],
      "execution_count": 0,
      "outputs": []
    },
    {
      "metadata": {
        "id": "krxB9aqn_18d",
        "colab_type": "code",
        "colab": {}
      },
      "cell_type": "code",
      "source": [
        "res = find_op_params(param_dist, 0.3)\n"
      ],
      "execution_count": 0,
      "outputs": []
    },
    {
      "metadata": {
        "id": "UwNGPV-zSM-l",
        "colab_type": "code",
        "colab": {}
      },
      "cell_type": "code",
      "source": [
        "r2, r2test, losses_train, _y_train_pred, _y_train, losses_test, _y_test_pred, _y_test, validation = op_res2"
      ],
      "execution_count": 0,
      "outputs": []
    },
    {
      "metadata": {
        "id": "TZgRWJPPAZzr",
        "colab_type": "code",
        "colab": {}
      },
      "cell_type": "code",
      "source": [
        "res = find_op_params(param_dist, 0.3)"
      ],
      "execution_count": 0,
      "outputs": []
    },
    {
      "metadata": {
        "id": "Fec66EDkBlY5",
        "colab_type": "text"
      },
      "cell_type": "markdown",
      "source": [
        "## Op Model"
      ]
    },
    {
      "metadata": {
        "id": "MfLR3LGKWkSZ",
        "colab_type": "code",
        "colab": {}
      },
      "cell_type": "code",
      "source": [
        "params = {'dr_rate': 0.5, 'n_nodes': 100, 'l_rate': 0.001, 'activation_func': tf.nn.relu, 'n_layers': 3, 'reg_rate': 0.001, 'n_output': 5}\n",
        "\n",
        "res = nn(X, y, n_val = 15, n_ep = 300, **params)\n",
        "r2, r2test, losses_train, _predictions_train, _sensitivity_train, losses_test, _predictions_test, _sensitivity_test, validation = res"
      ],
      "execution_count": 0,
      "outputs": []
    },
    {
      "metadata": {
        "id": "saWbd0FNAA9i",
        "colab_type": "code",
        "colab": {}
      },
      "cell_type": "code",
      "source": [
        "results5 = []\n",
        "for i in range(0,int(len(param_grid)*0.4)):\n",
        "    results5.append(nn(X,y,**param_grid[i]))\n",
        "    print('Params: {0}\\nAmount complete: {1:.3f}\\n'.format(param_grid[i],i/(len(param_grid)*0.4)))"
      ],
      "execution_count": 0,
      "outputs": []
    },
    {
      "metadata": {
        "id": "cduwwqqvTe1i",
        "colab_type": "text"
      },
      "cell_type": "markdown",
      "source": [
        "# Visualizing Results"
      ]
    },
    {
      "metadata": {
        "id": "6qvGX-zkTe1x",
        "colab_type": "code",
        "colab": {}
      },
      "cell_type": "code",
      "source": [
        "with open('model_results.pkl', 'rb') as f:  # Python 3: open(..., 'rb')\n",
        "    a = pickle.load(f)"
      ],
      "execution_count": 0,
      "outputs": []
    },
    {
      "metadata": {
        "id": "yp_FD4gvTe2D",
        "colab_type": "code",
        "colab": {}
      },
      "cell_type": "code",
      "source": [
        "y_train = pd.DataFrame(_sensitivity_train)\n",
        "y_pred = pd.DataFrame(_predictions_train)\n",
        "plt.plot(y_train.iloc[:,0],y_pred.iloc[:,0],'bo')\n",
        "plt.xlabel('y train')\n",
        "plt.ylabel('y pred')\n",
        "plt.title('Pred vs Train - top 5 drugs')\n",
        "\n",
        "#Best Train Params: {'dr_rate': 0.3, 'n_nodes': 100, 'l_rate': 0.5, 'activation_func': <function sigmoid at 0x7fcd3011b6e0>, 'n_layers': 3, 'n_output': 1} \n",
        "#Best Train R2: 0.942072275879 \n"
      ],
      "execution_count": 0,
      "outputs": []
    },
    {
      "metadata": {
        "id": "6GhskcOc4iuH",
        "colab_type": "code",
        "colab": {}
      },
      "cell_type": "code",
      "source": [
        "y_test = pd.DataFrame(_sensitivity_test)\n",
        "y_pred = pd.DataFrame(_predictions_test)\n",
        "plt.plot(y_test.iloc[:,0],y_pred.iloc[:,0],'bo')\n",
        "plt.xlabel('y test')\n",
        "plt.ylabel('y pred')\n",
        "plt.title('Pred vs Test - top 5 drugs')\n",
        "#Best Train Params: {'dr_rate': 0.3, 'n_nodes': 100, 'l_rate': 0.5, 'activation_func': <function sigmoid at 0x7fcd3011b6e0>, 'n_layers': 3, 'n_output': 1} \n",
        "#Best Train R2: 0.942072275879 \n",
        "\n",
        "#but testing data is shit"
      ],
      "execution_count": 0,
      "outputs": []
    },
    {
      "metadata": {
        "id": "BmIrc1uUqXjZ",
        "colab_type": "code",
        "outputId": "1248f806-44cf-45bc-dc4c-a76ca5bfc70e",
        "colab": {
          "base_uri": "https://localhost:8080/",
          "height": 432
        }
      },
      "cell_type": "code",
      "source": [
        "plt.hist(y_test.iloc[:,0])"
      ],
      "execution_count": 0,
      "outputs": [
        {
          "output_type": "execute_result",
          "data": {
            "text/plain": [
              "(array([ 1.,  4.,  4.,  5.,  8., 49.,  9.,  4.,  4.,  2.]),\n",
              " array([ 40.95848727,  61.49569792,  82.03290858, 102.57011924,\n",
              "        123.10732989, 143.64454055, 164.1817512 , 184.71896186,\n",
              "        205.25617252, 225.79338317, 246.33059383]),\n",
              " <a list of 10 Patch objects>)"
            ]
          },
          "metadata": {
            "tags": []
          },
          "execution_count": 264
        },
        {
          "output_type": "display_data",
          "data": {
            "image/png": "[encoded data removed]",
            "text/plain": [
              "<Figure size 576x396 with 1 Axes>"
            ]
          },
          "metadata": {
            "tags": []
          }
        }
      ]
    },
    {
      "metadata": {
        "collapsed": true,
        "id": "_Ap8V0XLTe2I",
        "colab_type": "code",
        "outputId": "5816ebac-84e4-49f1-c37b-0aef8419d6e2",
        "colab": {
          "base_uri": "https://localhost:8080/",
          "height": 393
        }
      },
      "cell_type": "code",
      "source": [
        "plt.hist(_y_train, label='y_train')\n",
        "plt.hist(_y_test, label = 'y_test')\n",
        "plt.xlabel('Label value')\n",
        "plt.ylabel('Count')\n",
        "plt.legend()\n",
        "plt.title('Train and Test Values')"
      ],
      "execution_count": 0,
      "outputs": [
        {
          "output_type": "execute_result",
          "data": {
            "text/plain": [
              "Text(0.5,1,'Train and Test Values')"
            ]
          },
          "metadata": {
            "tags": []
          },
          "execution_count": 270
        },
        {
          "output_type": "display_data",
          "data": {
            "image/png": "[encoded data removed]",
            "text/plain": [
              "<Figure size 576x396 with 1 Axes>"
            ]
          },
          "metadata": {
            "tags": []
          }
        }
      ]
    },
    {
      "metadata": {
        "id": "D9MLR1NjTe2K",
        "colab_type": "code",
        "outputId": "0db93983-682b-43ad-d3b0-9fde0696760e",
        "colab": {
          "base_uri": "https://localhost:8080/",
          "height": 376
        }
      },
      "cell_type": "code",
      "source": [
        "#plot test/trainig error\n",
        "plt.plot(losses_train[0:len(losses_train)/15], label = 'train set')\n",
        "plt.plot(losses_test[0:len(losses_train)/15], label = 'test set')\n",
        "plt.legend()\n",
        "plt.xlabel('Epoch')\n",
        "plt.ylabel('MSE Loss')\n",
        "plt.title('Loss Per Epoch')\n",
        "plt.show()"
      ],
      "execution_count": 0,
      "outputs": [
        {
          "output_type": "display_data",
          "data": {
            "image/png": "[encoded data removed]",
            "text/plain": [
              "<Figure size 576x396 with 1 Axes>"
            ]
          },
          "metadata": {
            "tags": []
          }
        }
      ]
    }
  ]
}